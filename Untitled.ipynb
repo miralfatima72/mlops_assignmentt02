{
 "cells": [
  {
   "cell_type": "code",
   "execution_count": 1,
   "id": "83fdfda3",
   "metadata": {
    "scrolled": false
   },
   "outputs": [
    {
     "name": "stdout",
     "output_type": "stream",
     "text": [
      "Data successfully written to bbc_articles.json\n"
     ]
    }
   ],
   "source": [
    "import requests\n",
    "from bs4 import BeautifulSoup\n",
    "from urllib.parse import urljoin\n",
    "import json\n",
    "\n",
    "BASE_URL_BBC = \"https://www.bbc.com\"\n",
    "BASE_URL_DAWN = \"https://www.dawn.com\"\n",
    "\n",
    "articles = []\n",
    "\n",
    "#get article links\n",
    "def get_article_links(base_url):\n",
    "    response = requests.get(base_url)\n",
    "    soup = BeautifulSoup(response.content, 'html.parser')\n",
    "    article_links = [urljoin(base_url, link['href']) for link in soup.find_all('a', href=True)]\n",
    "    return article_links\n",
    "\n",
    "#get article content\n",
    "def get_article_content(url):\n",
    "    response = requests.get(url)\n",
    "    soup = BeautifulSoup(response.content, 'html.parser')\n",
    "    title = soup.find('h1').text if soup.find('h1') else ''\n",
    "    description = soup.find('meta', {'name': 'description'})['content'] if soup.find('meta', {'name': 'description'}) else ''\n",
    "    return title, description\n",
    "\n",
    "# Fetch article links\n",
    "links = get_article_links(BASE_URL_BBC)\n",
    "\n",
    "for link in links:\n",
    "    try:\n",
    "        title, description = get_article_content(link)\n",
    "        articles.append({\"title\": title, \"description\": description})\n",
    "    except Exception as e:\n",
    "        print(f\"Error with URL {link}: {e}\")\n",
    "\n",
    "output_path = 'bbc_articles.json'\n",
    "with open(output_path, 'w', encoding='utf-8') as json_file:\n",
    "    json.dump(articles, json_file, ensure_ascii=False, indent=4)\n",
    "print(f\"Data successfully written to {output_path}\")\n"
   ]
  },
  {
   "cell_type": "code",
   "execution_count": 2,
   "id": "6b1ccd9a",
   "metadata": {},
   "outputs": [
    {
     "name": "stdout",
     "output_type": "stream",
     "text": [
      "Cleaned data to bbc_articles_cleaned.json\n"
     ]
    }
   ],
   "source": [
    "import json\n",
    "import re\n",
    "\n",
    "def clean_text(text):\n",
    "    text = re.sub(r'<.*?>', '', text)\n",
    "    text = re.sub(r'\\s+', ' ', text).strip()  \n",
    "    return text\n",
    "\n",
    "input_path = 'bbc_articles.json'\n",
    "with open(input_path, 'r', encoding='utf-8') as json_file:\n",
    "    articles = json.load(json_file)\n",
    "for article in articles:\n",
    "    article['title'] = clean_text(article.get('title', ''))\n",
    "    article['description'] = clean_text(article.get('description', ''))\n",
    "\n",
    "output_path = 'bbc_articles_cleaned.json'\n",
    "with open(output_path, 'w', encoding='utf-8') as json_file:\n",
    "    json.dump(articles, json_file, ensure_ascii=False, indent=4)\n",
    "\n",
    "print(f\"Cleaned data to {output_path}\")\n"
   ]
  },
  {
   "cell_type": "code",
   "execution_count": 4,
   "id": "ccd86e6c",
   "metadata": {},
   "outputs": [
    {
     "name": "stdout",
     "output_type": "stream",
     "text": [
      "Requirement already satisfied: pydrive in c:\\python312\\lib\\site-packages (1.3.1)\n",
      "Requirement already satisfied: google-api-python-client>=1.2 in c:\\python312\\lib\\site-packages (from pydrive) (2.129.0)\n",
      "Requirement already satisfied: oauth2client>=4.0.0 in c:\\python312\\lib\\site-packages (from pydrive) (4.1.3)\n",
      "Requirement already satisfied: PyYAML>=3.0 in c:\\python312\\lib\\site-packages (from pydrive) (6.0.1)\n",
      "Requirement already satisfied: httplib2<1.dev0,>=0.19.0 in c:\\python312\\lib\\site-packages (from google-api-python-client>=1.2->pydrive) (0.22.0)\n",
      "Requirement already satisfied: google-auth!=2.24.0,!=2.25.0,<3.0.0.dev0,>=1.32.0 in c:\\python312\\lib\\site-packages (from google-api-python-client>=1.2->pydrive) (2.29.0)\n",
      "Requirement already satisfied: google-auth-httplib2<1.0.0,>=0.2.0 in c:\\python312\\lib\\site-packages (from google-api-python-client>=1.2->pydrive) (0.2.0)\n",
      "Requirement already satisfied: google-api-core!=2.0.*,!=2.1.*,!=2.2.*,!=2.3.0,<3.0.0.dev0,>=1.31.5 in c:\\python312\\lib\\site-packages (from google-api-python-client>=1.2->pydrive) (2.19.0)\n",
      "Requirement already satisfied: uritemplate<5,>=3.0.1 in c:\\python312\\lib\\site-packages (from google-api-python-client>=1.2->pydrive) (4.1.1)\n",
      "Requirement already satisfied: pyasn1>=0.1.7 in c:\\python312\\lib\\site-packages (from oauth2client>=4.0.0->pydrive) (0.6.0)\n",
      "Requirement already satisfied: pyasn1-modules>=0.0.5 in c:\\python312\\lib\\site-packages (from oauth2client>=4.0.0->pydrive) (0.4.0)\n",
      "Requirement already satisfied: rsa>=3.1.4 in c:\\python312\\lib\\site-packages (from oauth2client>=4.0.0->pydrive) (4.9)\n",
      "Requirement already satisfied: six>=1.6.1 in c:\\users\\hp\\appdata\\roaming\\python\\python312\\site-packages (from oauth2client>=4.0.0->pydrive) (1.16.0)\n",
      "Requirement already satisfied: googleapis-common-protos<2.0.dev0,>=1.56.2 in c:\\python312\\lib\\site-packages (from google-api-core!=2.0.*,!=2.1.*,!=2.2.*,!=2.3.0,<3.0.0.dev0,>=1.31.5->google-api-python-client>=1.2->pydrive) (1.63.0)\n",
      "Requirement already satisfied: protobuf!=3.20.0,!=3.20.1,!=4.21.0,!=4.21.1,!=4.21.2,!=4.21.3,!=4.21.4,!=4.21.5,<5.0.0.dev0,>=3.19.5 in c:\\python312\\lib\\site-packages (from google-api-core!=2.0.*,!=2.1.*,!=2.2.*,!=2.3.0,<3.0.0.dev0,>=1.31.5->google-api-python-client>=1.2->pydrive) (4.25.3)\n",
      "Requirement already satisfied: proto-plus<2.0.0dev,>=1.22.3 in c:\\python312\\lib\\site-packages (from google-api-core!=2.0.*,!=2.1.*,!=2.2.*,!=2.3.0,<3.0.0.dev0,>=1.31.5->google-api-python-client>=1.2->pydrive) (1.23.0)\n",
      "Requirement already satisfied: requests<3.0.0.dev0,>=2.18.0 in c:\\python312\\lib\\site-packages (from google-api-core!=2.0.*,!=2.1.*,!=2.2.*,!=2.3.0,<3.0.0.dev0,>=1.31.5->google-api-python-client>=1.2->pydrive) (2.31.0)\n",
      "Requirement already satisfied: cachetools<6.0,>=2.0.0 in c:\\python312\\lib\\site-packages (from google-auth!=2.24.0,!=2.25.0,<3.0.0.dev0,>=1.32.0->google-api-python-client>=1.2->pydrive) (5.3.3)\n",
      "Requirement already satisfied: pyparsing!=3.0.0,!=3.0.1,!=3.0.2,!=3.0.3,<4,>=2.4.2 in c:\\python312\\lib\\site-packages (from httplib2<1.dev0,>=0.19.0->google-api-python-client>=1.2->pydrive) (3.1.1)\n",
      "Requirement already satisfied: charset-normalizer<4,>=2 in c:\\python312\\lib\\site-packages (from requests<3.0.0.dev0,>=2.18.0->google-api-core!=2.0.*,!=2.1.*,!=2.2.*,!=2.3.0,<3.0.0.dev0,>=1.31.5->google-api-python-client>=1.2->pydrive) (3.3.2)\n",
      "Requirement already satisfied: idna<4,>=2.5 in c:\\python312\\lib\\site-packages (from requests<3.0.0.dev0,>=2.18.0->google-api-core!=2.0.*,!=2.1.*,!=2.2.*,!=2.3.0,<3.0.0.dev0,>=1.31.5->google-api-python-client>=1.2->pydrive) (3.6)\n",
      "Requirement already satisfied: urllib3<3,>=1.21.1 in c:\\python312\\lib\\site-packages (from requests<3.0.0.dev0,>=2.18.0->google-api-core!=2.0.*,!=2.1.*,!=2.2.*,!=2.3.0,<3.0.0.dev0,>=1.31.5->google-api-python-client>=1.2->pydrive) (2.2.1)\n",
      "Requirement already satisfied: certifi>=2017.4.17 in c:\\python312\\lib\\site-packages (from requests<3.0.0.dev0,>=2.18.0->google-api-core!=2.0.*,!=2.1.*,!=2.2.*,!=2.3.0,<3.0.0.dev0,>=1.31.5->google-api-python-client>=1.2->pydrive) (2024.2.2)\n",
      "Note: you may need to restart the kernel to use updated packages.\n",
      "Your browser has been opened to visit:\n",
      "\n",
      "    https://accounts.google.com/o/oauth2/auth?client_id=461645083159-nq6vu5pdur3ua86lldafjik3msc9cetp.apps.googleusercontent.com&redirect_uri=http%3A%2F%2Flocalhost%3A8080%2F&scope=https%3A%2F%2Fwww.googleapis.com%2Fauth%2Fdrive&access_type=offline&response_type=code\n",
      "\n",
      "Authentication successful.\n"
     ]
    }
   ],
   "source": [
    "%pip install pydrive\n",
    "from pydrive.auth import GoogleAuth\n",
    "from pydrive.drive import GoogleDrive\n",
    "\n",
    "# Set the path to your client secrets file\n",
    "client_secrets_path = 'client_secrets.json'\n",
    "\n",
    "# Authenticate with Google Drive\n",
    "gauth = GoogleAuth()\n",
    "gauth.LoadClientConfigFile(client_secrets_path)\n",
    "gauth.LocalWebserverAuth()\n",
    "\n",
    "# Initialize Google Drive client\n",
    "drive = GoogleDrive(gauth)\n",
    "\n",
    "# Example function to upload a file\n",
    "def upload_file_to_drive(file_path, drive_folder_id):\n",
    "    file = drive.CreateFile({'parents': [{'id': drive_folder_id}]})\n",
    "    file.SetContentFile(file_path)\n",
    "    file.Upload()\n",
    "\n",
    "\n",
    "drive_folder_id = \"1pjFjuF_NDbfyZkn9zx_FazNRJ5q1gHJJ\"\n",
    "file_path = r\"C:\\Users\\HP\\Desktop\\mlops\\bbc_articles_cleaned.json\""
   ]
  },
  {
   "cell_type": "code",
   "execution_count": 8,
   "id": "d679b89e",
   "metadata": {},
   "outputs": [
    {
     "name": "stdout",
     "output_type": "stream",
     "text": [
      "Collecting pydrive\n",
      "  Downloading PyDrive-1.3.1.tar.gz (987 kB)\n",
      "     ------------------------------------ 987.4/987.4 kB 161.6 kB/s eta 0:00:00\n",
      "  Preparing metadata (setup.py): started\n",
      "  Preparing metadata (setup.py): finished with status 'done'\n",
      "Collecting google-api-python-client>=1.2\n",
      "  Downloading google_api_python_client-2.128.0-py2.py3-none-any.whl (11.7 MB)\n",
      "     -------------------------------------- 11.7/11.7 MB 281.3 kB/s eta 0:00:00\n",
      "Collecting oauth2client>=4.0.0\n",
      "  Using cached oauth2client-4.1.3-py2.py3-none-any.whl (98 kB)\n",
      "Requirement already satisfied: PyYAML>=3.0 in c:\\users\\fatii\\anaconda3\\lib\\site-packages (from pydrive) (6.0)\n",
      "Collecting google-auth-httplib2<1.0.0,>=0.2.0\n",
      "  Using cached google_auth_httplib2-0.2.0-py2.py3-none-any.whl (9.3 kB)\n",
      "Collecting uritemplate<5,>=3.0.1\n",
      "  Using cached uritemplate-4.1.1-py2.py3-none-any.whl (10 kB)\n",
      "Collecting google-api-core!=2.0.*,!=2.1.*,!=2.2.*,!=2.3.0,<3.0.0.dev0,>=1.31.5\n",
      "  Downloading google_api_core-2.19.0-py3-none-any.whl (139 kB)\n",
      "     ------------------------------------ 139.0/139.0 kB 550.4 kB/s eta 0:00:00\n",
      "Requirement already satisfied: google-auth!=2.24.0,!=2.25.0,<3.0.0.dev0,>=1.32.0 in c:\\users\\fatii\\anaconda3\\lib\\site-packages (from google-api-python-client>=1.2->pydrive) (2.22.0)\n",
      "Collecting httplib2<1.dev0,>=0.19.0\n",
      "  Using cached httplib2-0.22.0-py3-none-any.whl (96 kB)\n",
      "Requirement already satisfied: rsa>=3.1.4 in c:\\users\\fatii\\anaconda3\\lib\\site-packages (from oauth2client>=4.0.0->pydrive) (4.9)\n",
      "Requirement already satisfied: pyasn1-modules>=0.0.5 in c:\\users\\fatii\\anaconda3\\lib\\site-packages (from oauth2client>=4.0.0->pydrive) (0.2.8)\n",
      "Requirement already satisfied: six>=1.6.1 in c:\\users\\fatii\\anaconda3\\lib\\site-packages (from oauth2client>=4.0.0->pydrive) (1.16.0)\n",
      "Requirement already satisfied: pyasn1>=0.1.7 in c:\\users\\fatii\\anaconda3\\lib\\site-packages (from oauth2client>=4.0.0->pydrive) (0.4.8)\n",
      "Requirement already satisfied: protobuf!=3.20.0,!=3.20.1,!=4.21.0,!=4.21.1,!=4.21.2,!=4.21.3,!=4.21.4,!=4.21.5,<5.0.0.dev0,>=3.19.5 in c:\\users\\fatii\\anaconda3\\lib\\site-packages (from google-api-core!=2.0.*,!=2.1.*,!=2.2.*,!=2.3.0,<3.0.0.dev0,>=1.31.5->google-api-python-client>=1.2->pydrive) (4.25.3)\n",
      "Requirement already satisfied: requests<3.0.0.dev0,>=2.18.0 in c:\\users\\fatii\\anaconda3\\lib\\site-packages (from google-api-core!=2.0.*,!=2.1.*,!=2.2.*,!=2.3.0,<3.0.0.dev0,>=1.31.5->google-api-python-client>=1.2->pydrive) (2.28.1)\n",
      "Collecting googleapis-common-protos<2.0.dev0,>=1.56.2\n",
      "  Using cached googleapis_common_protos-1.63.0-py2.py3-none-any.whl (229 kB)\n",
      "Collecting proto-plus<2.0.0dev,>=1.22.3\n",
      "  Using cached proto_plus-1.23.0-py3-none-any.whl (48 kB)\n",
      "Requirement already satisfied: urllib3<2.0 in c:\\users\\fatii\\anaconda3\\lib\\site-packages (from google-auth!=2.24.0,!=2.25.0,<3.0.0.dev0,>=1.32.0->google-api-python-client>=1.2->pydrive) (1.26.14)\n",
      "Requirement already satisfied: cachetools<6.0,>=2.0.0 in c:\\users\\fatii\\anaconda3\\lib\\site-packages (from google-auth!=2.24.0,!=2.25.0,<3.0.0.dev0,>=1.32.0->google-api-python-client>=1.2->pydrive) (5.3.1)\n",
      "Requirement already satisfied: pyparsing!=3.0.0,!=3.0.1,!=3.0.2,!=3.0.3,<4,>=2.4.2 in c:\\users\\fatii\\anaconda3\\lib\\site-packages (from httplib2<1.dev0,>=0.19.0->google-api-python-client>=1.2->pydrive) (3.0.9)\n",
      "Requirement already satisfied: idna<4,>=2.5 in c:\\users\\fatii\\anaconda3\\lib\\site-packages (from requests<3.0.0.dev0,>=2.18.0->google-api-core!=2.0.*,!=2.1.*,!=2.2.*,!=2.3.0,<3.0.0.dev0,>=1.31.5->google-api-python-client>=1.2->pydrive) (3.4)\n",
      "Requirement already satisfied: certifi>=2017.4.17 in c:\\users\\fatii\\anaconda3\\lib\\site-packages (from requests<3.0.0.dev0,>=2.18.0->google-api-core!=2.0.*,!=2.1.*,!=2.2.*,!=2.3.0,<3.0.0.dev0,>=1.31.5->google-api-python-client>=1.2->pydrive) (2022.12.7)\n",
      "Requirement already satisfied: charset-normalizer<3,>=2 in c:\\users\\fatii\\anaconda3\\lib\\site-packages (from requests<3.0.0.dev0,>=2.18.0->google-api-core!=2.0.*,!=2.1.*,!=2.2.*,!=2.3.0,<3.0.0.dev0,>=1.31.5->google-api-python-client>=1.2->pydrive) (2.0.4)\n",
      "Building wheels for collected packages: pydrive\n",
      "  Building wheel for pydrive (setup.py): started\n",
      "  Building wheel for pydrive (setup.py): finished with status 'done'\n",
      "  Created wheel for pydrive: filename=PyDrive-1.3.1-py3-none-any.whl size=27464 sha256=499a32fd9f8a9690e8e7f574db4930943810f73ed8b571348e9cc49273c81498\n",
      "  Stored in directory: c:\\users\\fatii\\appdata\\local\\pip\\cache\\wheels\\1e\\99\\07\\235c248b6e051812fc5b695a7506b9f309fc0bbb4223ec2296\n",
      "Successfully built pydrive\n",
      "Installing collected packages: uritemplate, proto-plus, httplib2, googleapis-common-protos, oauth2client, google-auth-httplib2, google-api-core, google-api-python-client, pydrive\n",
      "Successfully installed google-api-core-2.19.0 google-api-python-client-2.128.0 google-auth-httplib2-0.2.0 googleapis-common-protos-1.63.0 httplib2-0.22.0 oauth2client-4.1.3 proto-plus-1.23.0 pydrive-1.3.1 uritemplate-4.1.1\n",
      "Note: you may need to restart the kernel to use updated packages.\n"
     ]
    }
   ],
   "source": []
  },
  {
   "cell_type": "code",
   "execution_count": null,
   "id": "8e5692da",
   "metadata": {},
   "outputs": [],
   "source": []
  }
 ],
 "metadata": {
  "kernelspec": {
   "display_name": "Python 3 (ipykernel)",
   "language": "python",
   "name": "python3"
  },
  "language_info": {
   "codemirror_mode": {
    "name": "ipython",
    "version": 3
   },
   "file_extension": ".py",
   "mimetype": "text/x-python",
   "name": "python",
   "nbconvert_exporter": "python",
   "pygments_lexer": "ipython3",
   "version": "3.12.0"
  }
 },
 "nbformat": 4,
 "nbformat_minor": 5
}
